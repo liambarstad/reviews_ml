{
 "cells": [
  {
   "cell_type": "code",
   "execution_count": 1,
   "id": "c5e729b3-30fc-4c3c-9814-f9921963e842",
   "metadata": {},
   "outputs": [
    {
     "name": "stdout",
     "output_type": "stream",
     "text": [
      "Collecting google-play-scraper\n",
      "  Downloading google-play-scraper-1.0.3.tar.gz (52 kB)\n",
      "\u001b[K     |████████████████████████████████| 52 kB 2.0 MB/s eta 0:00:01\n",
      "\u001b[?25hBuilding wheels for collected packages: google-play-scraper\n",
      "  Building wheel for google-play-scraper (setup.py) ... \u001b[?25ldone\n",
      "\u001b[?25h  Created wheel for google-play-scraper: filename=google_play_scraper-1.0.3-py3-none-any.whl size=24381 sha256=cb840817f2450a83eb8caf648ca66b32bdc0b900a92838aace4cdb89c2f97286\n",
      "  Stored in directory: /Users/chameleon/Library/Caches/pip/wheels/b0/17/bf/a06f635b5343780c7ec2b554dccc3aa4cf3ead928304088ad5\n",
      "Successfully built google-play-scraper\n",
      "Installing collected packages: google-play-scraper\n",
      "Successfully installed google-play-scraper-1.0.3\n",
      "\u001b[33mWARNING: You are using pip version 21.0.1; however, version 22.0.4 is available.\n",
      "You should consider upgrading via the '/usr/local/Cellar/jupyterlab/3.0.14/libexec/bin/python3.9 -m pip install --upgrade pip' command.\u001b[0m\n",
      "Note: you may need to restart the kernel to use updated packages.\n"
     ]
    }
   ],
   "source": [
    "%pip install google-play-scraper"
   ]
  },
  {
   "cell_type": "code",
   "execution_count": 11,
   "id": "7eba4290-b64c-4b61-8793-0b8fe9e5c7a3",
   "metadata": {},
   "outputs": [],
   "source": [
    "import pandas as pd\n",
    "from google_play_scraper import app, Sort, reviews_all"
   ]
  },
  {
   "cell_type": "code",
   "execution_count": 5,
   "id": "40b5440c-419a-42e1-b3c2-e5697409925b",
   "metadata": {},
   "outputs": [],
   "source": [
    "result = app(\n",
    "    'com.tmobile.pr.mytmobile',\n",
    "    lang='en', # defaults to 'en'\n",
    "    country='us' # defaults to 'us'\n",
    ")"
   ]
  },
  {
   "cell_type": "code",
   "execution_count": 7,
   "id": "72b430c5-7f0f-4e70-9fd6-56c24e891eae",
   "metadata": {},
   "outputs": [],
   "source": [
    "result = reviews_all(\n",
    "    'com.tmobile.pr.mytmobile',\n",
    "    sleep_milliseconds=0, # defaults to 0\n",
    "    lang='en', # defaults to 'en'\n",
    "    country='us', # defaults to 'us'\n",
    "    sort=Sort.NEWEST, \n",
    ")"
   ]
  },
  {
   "cell_type": "code",
   "execution_count": 12,
   "id": "b5d4e4af-64e7-4d68-94d9-11226015bc04",
   "metadata": {},
   "outputs": [
    {
     "data": {
      "text/html": [
       "<div>\n",
       "<style scoped>\n",
       "    .dataframe tbody tr th:only-of-type {\n",
       "        vertical-align: middle;\n",
       "    }\n",
       "\n",
       "    .dataframe tbody tr th {\n",
       "        vertical-align: top;\n",
       "    }\n",
       "\n",
       "    .dataframe thead th {\n",
       "        text-align: right;\n",
       "    }\n",
       "</style>\n",
       "<table border=\"1\" class=\"dataframe\">\n",
       "  <thead>\n",
       "    <tr style=\"text-align: right;\">\n",
       "      <th></th>\n",
       "      <th>reviewId</th>\n",
       "      <th>userName</th>\n",
       "      <th>userImage</th>\n",
       "      <th>content</th>\n",
       "      <th>score</th>\n",
       "      <th>thumbsUpCount</th>\n",
       "      <th>reviewCreatedVersion</th>\n",
       "      <th>at</th>\n",
       "      <th>replyContent</th>\n",
       "      <th>repliedAt</th>\n",
       "    </tr>\n",
       "  </thead>\n",
       "  <tbody>\n",
       "    <tr>\n",
       "      <th>0</th>\n",
       "      <td>gp:AOqpTOE_K4dA9nekX4a0RtvtYzEgiPcESJh6127iRDN...</td>\n",
       "      <td>A Google user</td>\n",
       "      <td>https://play-lh.googleusercontent.com/EGemoI2N...</td>\n",
       "      <td>Awesome service and super people. Phones are e...</td>\n",
       "      <td>5</td>\n",
       "      <td>0</td>\n",
       "      <td>8.8.1.83914</td>\n",
       "      <td>2022-04-03 10:44:46</td>\n",
       "      <td>None</td>\n",
       "      <td>NaT</td>\n",
       "    </tr>\n",
       "    <tr>\n",
       "      <th>1</th>\n",
       "      <td>gp:AOqpTOG6jOxcsFJOqims9s7UOKp3DbFutDub5waP43P...</td>\n",
       "      <td>Jeremy Donaldson</td>\n",
       "      <td>https://play-lh.googleusercontent.com/a-/AOh14...</td>\n",
       "      <td>Doesn't work</td>\n",
       "      <td>1</td>\n",
       "      <td>0</td>\n",
       "      <td>7.18.0.197</td>\n",
       "      <td>2022-04-03 10:28:02</td>\n",
       "      <td>None</td>\n",
       "      <td>NaT</td>\n",
       "    </tr>\n",
       "    <tr>\n",
       "      <th>2</th>\n",
       "      <td>gp:AOqpTOHBYh5a4ZqI2IhmAB533GwvM7b2dggewSvIR3T...</td>\n",
       "      <td>Martiza Martiza</td>\n",
       "      <td>https://play-lh.googleusercontent.com/a/AATXAJ...</td>\n",
       "      <td>I love it🥰😍🥰</td>\n",
       "      <td>5</td>\n",
       "      <td>0</td>\n",
       "      <td>7.18.0.197</td>\n",
       "      <td>2022-04-03 09:35:12</td>\n",
       "      <td>None</td>\n",
       "      <td>NaT</td>\n",
       "    </tr>\n",
       "    <tr>\n",
       "      <th>3</th>\n",
       "      <td>gp:AOqpTOFC7RwlvCLv-zm7-xSlJG1UvU2u_J-ZJjHijHp...</td>\n",
       "      <td>Denise Mann</td>\n",
       "      <td>https://play-lh.googleusercontent.com/a-/AOh14...</td>\n",
       "      <td>Dependable app.</td>\n",
       "      <td>5</td>\n",
       "      <td>0</td>\n",
       "      <td>8.8.1.83914</td>\n",
       "      <td>2022-04-03 09:33:26</td>\n",
       "      <td>None</td>\n",
       "      <td>NaT</td>\n",
       "    </tr>\n",
       "    <tr>\n",
       "      <th>4</th>\n",
       "      <td>gp:AOqpTOHjTogt4HCLQCClns8dk1yl6DZhSJgISe8OgsK...</td>\n",
       "      <td>Jose Sandoval</td>\n",
       "      <td>https://play-lh.googleusercontent.com/a-/AOh14...</td>\n",
       "      <td>Works good for me right now!</td>\n",
       "      <td>5</td>\n",
       "      <td>0</td>\n",
       "      <td>8.8.1.83914</td>\n",
       "      <td>2022-04-03 09:05:42</td>\n",
       "      <td>None</td>\n",
       "      <td>NaT</td>\n",
       "    </tr>\n",
       "  </tbody>\n",
       "</table>\n",
       "</div>"
      ],
      "text/plain": [
       "                                            reviewId          userName  \\\n",
       "0  gp:AOqpTOE_K4dA9nekX4a0RtvtYzEgiPcESJh6127iRDN...     A Google user   \n",
       "1  gp:AOqpTOG6jOxcsFJOqims9s7UOKp3DbFutDub5waP43P...  Jeremy Donaldson   \n",
       "2  gp:AOqpTOHBYh5a4ZqI2IhmAB533GwvM7b2dggewSvIR3T...   Martiza Martiza   \n",
       "3  gp:AOqpTOFC7RwlvCLv-zm7-xSlJG1UvU2u_J-ZJjHijHp...       Denise Mann   \n",
       "4  gp:AOqpTOHjTogt4HCLQCClns8dk1yl6DZhSJgISe8OgsK...     Jose Sandoval   \n",
       "\n",
       "                                           userImage  \\\n",
       "0  https://play-lh.googleusercontent.com/EGemoI2N...   \n",
       "1  https://play-lh.googleusercontent.com/a-/AOh14...   \n",
       "2  https://play-lh.googleusercontent.com/a/AATXAJ...   \n",
       "3  https://play-lh.googleusercontent.com/a-/AOh14...   \n",
       "4  https://play-lh.googleusercontent.com/a-/AOh14...   \n",
       "\n",
       "                                             content  score  thumbsUpCount  \\\n",
       "0  Awesome service and super people. Phones are e...      5              0   \n",
       "1                                       Doesn't work      1              0   \n",
       "2                                       I love it🥰😍🥰      5              0   \n",
       "3                                    Dependable app.      5              0   \n",
       "4                       Works good for me right now!      5              0   \n",
       "\n",
       "  reviewCreatedVersion                  at replyContent repliedAt  \n",
       "0          8.8.1.83914 2022-04-03 10:44:46         None       NaT  \n",
       "1           7.18.0.197 2022-04-03 10:28:02         None       NaT  \n",
       "2           7.18.0.197 2022-04-03 09:35:12         None       NaT  \n",
       "3          8.8.1.83914 2022-04-03 09:33:26         None       NaT  \n",
       "4          8.8.1.83914 2022-04-03 09:05:42         None       NaT  "
      ]
     },
     "execution_count": 12,
     "metadata": {},
     "output_type": "execute_result"
    }
   ],
   "source": [
    "review_df = pd.json_normalize(result)\n",
    "review_df.head(5)"
   ]
  },
  {
   "cell_type": "code",
   "execution_count": 22,
   "id": "2fd16fc8-0c1e-4b7c-ba75-8c72afd87510",
   "metadata": {},
   "outputs": [
    {
     "data": {
      "text/plain": [
       "pandas._libs.tslibs.nattype.NaTType"
      ]
     },
     "execution_count": 22,
     "metadata": {},
     "output_type": "execute_result"
    }
   ],
   "source": [
    "pd.to_csv('Tmobile_reviews.')"
   ]
  }
 ],
 "metadata": {
  "kernelspec": {
   "display_name": "Python 3",
   "language": "python",
   "name": "python3"
  },
  "language_info": {
   "codemirror_mode": {
    "name": "ipython",
    "version": 3
   },
   "file_extension": ".py",
   "mimetype": "text/x-python",
   "name": "python",
   "nbconvert_exporter": "python",
   "pygments_lexer": "ipython3",
   "version": "3.9.5"
  }
 },
 "nbformat": 4,
 "nbformat_minor": 5
}
